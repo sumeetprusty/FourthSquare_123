{
 "cells": [
  {
   "cell_type": "code",
   "execution_count": 1,
   "metadata": {},
   "outputs": [
    {
     "name": "stdout",
     "output_type": "stream",
     "text": [
      "Name: nbformat\n",
      "Version: 5.9.2\n",
      "Summary: The Jupyter Notebook format\n",
      "Home-page: \n",
      "Author: \n",
      "Author-email: Jupyter Development Team <jupyter@googlegroups.com>\n",
      "License: BSD 3-Clause License\n",
      "\n",
      "- Copyright (c) 2001-2015, IPython Development Team\n",
      "- Copyright (c) 2015-, Jupyter Development Team\n",
      "\n",
      "All rights reserved.\n",
      "\n",
      "Redistribution and use in source and binary forms, with or without\n",
      "modification, are permitted provided that the following conditions are met:\n",
      "\n",
      "1. Redistributions of source code must retain the above copyright notice, this\n",
      "   list of conditions and the following disclaimer.\n",
      "\n",
      "2. Redistributions in binary form must reproduce the above copyright notice,\n",
      "   this list of conditions and the following disclaimer in the documentation\n",
      "   and/or other materials provided with the distribution.\n",
      "\n",
      "3. Neither the name of the copyright holder nor the names of its\n",
      "   contributors may be used to endorse or promote products derived from\n",
      "   this software without specific prior written permission.\n",
      "\n",
      "THIS SOFTWARE IS PROVIDED BY THE COPYRIGHT HOLDERS AND CONTRIBUTORS \"AS IS\"\n",
      "AND ANY EXPRESS OR IMPLIED WARRANTIES, INCLUDING, BUT NOT LIMITED TO, THE\n",
      "IMPLIED WARRANTIES OF MERCHANTABILITY AND FITNESS FOR A PARTICULAR PURPOSE ARE\n",
      "DISCLAIMED. IN NO EVENT SHALL THE COPYRIGHT HOLDER OR CONTRIBUTORS BE LIABLE\n",
      "FOR ANY DIRECT, INDIRECT, INCIDENTAL, SPECIAL, EXEMPLARY, OR CONSEQUENTIAL\n",
      "DAMAGES (INCLUDING, BUT NOT LIMITED TO, PROCUREMENT OF SUBSTITUTE GOODS OR\n",
      "SERVICES; LOSS OF USE, DATA, OR PROFITS; OR BUSINESS INTERRUPTION) HOWEVER\n",
      "CAUSED AND ON ANY THEORY OF LIABILITY, WHETHER IN CONTRACT, STRICT LIABILITY,\n",
      "OR TORT (INCLUDING NEGLIGENCE OR OTHERWISE) ARISING IN ANY WAY OUT OF THE USE\n",
      "OF THIS SOFTWARE, EVEN IF ADVISED OF THE POSSIBILITY OF SUCH DAMAGE.\n",
      "Location: C:\\Anaconda\\Lib\\site-packages\n",
      "Requires: fastjsonschema, jsonschema, jupyter-core, traitlets\n",
      "Required-by: anaconda-client, conda-repo-cli, jupyter_server, nbclassic, nbclient, nbconvert\n",
      "---\n",
      "Name: nbconvert\n",
      "Version: 6.5.4\n",
      "Summary: Converting Jupyter Notebooks\n",
      "Home-page: https://jupyter.org\n",
      "Author: Jupyter Development Team\n",
      "Author-email: jupyter@googlegroups.com\n",
      "License: BSD\n",
      "Location: C:\\Anaconda\\Lib\\site-packages\n",
      "Requires: beautifulsoup4, bleach, defusedxml, entrypoints, jinja2, jupyter-core, jupyterlab-pygments, lxml, MarkupSafe, mistune, nbclient, nbformat, packaging, pandocfilters, pygments, tinycss2, traitlets\n",
      "Required-by: jupyter, jupyter_server, nbclassic, spyder\n"
     ]
    }
   ],
   "source": [
    "!pip show nbformat nbconvert\n"
   ]
  },
  {
   "cell_type": "code",
   "execution_count": 2,
   "metadata": {},
   "outputs": [
    {
     "name": "stdout",
     "output_type": "stream",
     "text": [
      "Collecting nbformat==5.10.4\n",
      "  Obtaining dependency information for nbformat==5.10.4 from https://files.pythonhosted.org/packages/a9/82/0340caa499416c78e5d8f5f05947ae4bc3cba53c9f038ab6e9ed964e22f1/nbformat-5.10.4-py3-none-any.whl.metadata\n",
      "  Downloading nbformat-5.10.4-py3-none-any.whl.metadata (3.6 kB)\n",
      "Requirement already satisfied: fastjsonschema>=2.15 in c:\\anaconda\\lib\\site-packages (from nbformat==5.10.4) (2.16.2)\n",
      "Requirement already satisfied: jsonschema>=2.6 in c:\\anaconda\\lib\\site-packages (from nbformat==5.10.4) (4.19.2)\n",
      "Requirement already satisfied: jupyter-core!=5.0.*,>=4.12 in c:\\anaconda\\lib\\site-packages (from nbformat==5.10.4) (5.3.0)\n",
      "Requirement already satisfied: traitlets>=5.1 in c:\\anaconda\\lib\\site-packages (from nbformat==5.10.4) (5.7.1)\n",
      "Requirement already satisfied: attrs>=22.2.0 in c:\\anaconda\\lib\\site-packages (from jsonschema>=2.6->nbformat==5.10.4) (23.1.0)\n",
      "Requirement already satisfied: jsonschema-specifications>=2023.03.6 in c:\\anaconda\\lib\\site-packages (from jsonschema>=2.6->nbformat==5.10.4) (2023.7.1)\n",
      "Requirement already satisfied: referencing>=0.28.4 in c:\\anaconda\\lib\\site-packages (from jsonschema>=2.6->nbformat==5.10.4) (0.30.2)\n",
      "Requirement already satisfied: rpds-py>=0.7.1 in c:\\anaconda\\lib\\site-packages (from jsonschema>=2.6->nbformat==5.10.4) (0.10.6)\n",
      "Requirement already satisfied: platformdirs>=2.5 in c:\\anaconda\\lib\\site-packages (from jupyter-core!=5.0.*,>=4.12->nbformat==5.10.4) (3.10.0)\n",
      "Requirement already satisfied: pywin32>=300 in c:\\anaconda\\lib\\site-packages (from jupyter-core!=5.0.*,>=4.12->nbformat==5.10.4) (305.1)\n",
      "Downloading nbformat-5.10.4-py3-none-any.whl (78 kB)\n",
      "   ---------------------------------------- 0.0/78.5 kB ? eta -:--:--\n",
      "   ---------------------------------------- 0.0/78.5 kB ? eta -:--:--\n",
      "   ----- ---------------------------------- 10.2/78.5 kB ? eta -:--:--\n",
      "   ----- ---------------------------------- 10.2/78.5 kB ? eta -:--:--\n",
      "   --------------- ------------------------ 30.7/78.5 kB 217.9 kB/s eta 0:00:01\n",
      "   --------------- ------------------------ 30.7/78.5 kB 217.9 kB/s eta 0:00:01\n",
      "   ------------------------------------ --- 71.7/78.5 kB 326.8 kB/s eta 0:00:01\n",
      "   ---------------------------------------- 78.5/78.5 kB 311.5 kB/s eta 0:00:00\n",
      "Installing collected packages: nbformat\n",
      "  Attempting uninstall: nbformat\n",
      "    Found existing installation: nbformat 5.9.2\n",
      "    Uninstalling nbformat-5.9.2:\n",
      "      Successfully uninstalled nbformat-5.9.2\n",
      "Successfully installed nbformat-5.10.4\n"
     ]
    },
    {
     "name": "stderr",
     "output_type": "stream",
     "text": [
      "ERROR: pip's dependency resolver does not currently take into account all the packages that are installed. This behaviour is the source of the following dependency conflicts.\n",
      "conda-repo-cli 1.0.75 requires requests_mock, which is not installed.\n",
      "conda-repo-cli 1.0.75 requires clyent==1.2.1, but you have clyent 1.2.2 which is incompatible.\n",
      "conda-repo-cli 1.0.75 requires nbformat==5.9.2, but you have nbformat 5.10.4 which is incompatible.\n",
      "conda-repo-cli 1.0.75 requires PyYAML==6.0.1, but you have pyyaml 6.0 which is incompatible.\n"
     ]
    },
    {
     "name": "stdout",
     "output_type": "stream",
     "text": [
      "Collecting nbconvert==7.16.1\n",
      "  Obtaining dependency information for nbconvert==7.16.1 from https://files.pythonhosted.org/packages/dc/6f/2c4e3dafb36dff2c98a170c1d61275f2e2d6bfd0f07d25771c1c18a6a529/nbconvert-7.16.1-py3-none-any.whl.metadata\n",
      "  Downloading nbconvert-7.16.1-py3-none-any.whl.metadata (8.0 kB)\n",
      "Requirement already satisfied: beautifulsoup4 in c:\\anaconda\\lib\\site-packages (from nbconvert==7.16.1) (4.12.2)\n",
      "Requirement already satisfied: bleach!=5.0.0 in c:\\anaconda\\lib\\site-packages (from nbconvert==7.16.1) (4.1.0)\n",
      "Requirement already satisfied: defusedxml in c:\\anaconda\\lib\\site-packages (from nbconvert==7.16.1) (0.7.1)\n",
      "Requirement already satisfied: jinja2>=3.0 in c:\\anaconda\\lib\\site-packages (from nbconvert==7.16.1) (3.1.2)\n",
      "Requirement already satisfied: jupyter-core>=4.7 in c:\\anaconda\\lib\\site-packages (from nbconvert==7.16.1) (5.3.0)\n",
      "Requirement already satisfied: jupyterlab-pygments in c:\\anaconda\\lib\\site-packages (from nbconvert==7.16.1) (0.1.2)\n",
      "Requirement already satisfied: markupsafe>=2.0 in c:\\anaconda\\lib\\site-packages (from nbconvert==7.16.1) (2.1.1)\n",
      "Collecting mistune<4,>=2.0.3 (from nbconvert==7.16.1)\n",
      "  Obtaining dependency information for mistune<4,>=2.0.3 from https://files.pythonhosted.org/packages/f0/74/c95adcdf032956d9ef6c89a9b8a5152bf73915f8c633f3e3d88d06bd699c/mistune-3.0.2-py3-none-any.whl.metadata\n",
      "  Downloading mistune-3.0.2-py3-none-any.whl.metadata (1.7 kB)\n",
      "Requirement already satisfied: nbclient>=0.5.0 in c:\\anaconda\\lib\\site-packages (from nbconvert==7.16.1) (0.5.13)\n",
      "Requirement already satisfied: nbformat>=5.7 in c:\\anaconda\\lib\\site-packages (from nbconvert==7.16.1) (5.10.4)\n",
      "Requirement already satisfied: packaging in c:\\anaconda\\lib\\site-packages (from nbconvert==7.16.1) (23.1)\n",
      "Requirement already satisfied: pandocfilters>=1.4.1 in c:\\anaconda\\lib\\site-packages (from nbconvert==7.16.1) (1.5.0)\n",
      "Requirement already satisfied: pygments>=2.4.1 in c:\\anaconda\\lib\\site-packages (from nbconvert==7.16.1) (2.15.1)\n",
      "Requirement already satisfied: tinycss2 in c:\\anaconda\\lib\\site-packages (from nbconvert==7.16.1) (1.2.1)\n",
      "Requirement already satisfied: traitlets>=5.1 in c:\\anaconda\\lib\\site-packages (from nbconvert==7.16.1) (5.7.1)\n",
      "Requirement already satisfied: six>=1.9.0 in c:\\anaconda\\lib\\site-packages (from bleach!=5.0.0->nbconvert==7.16.1) (1.16.0)\n",
      "Requirement already satisfied: webencodings in c:\\anaconda\\lib\\site-packages (from bleach!=5.0.0->nbconvert==7.16.1) (0.5.1)\n",
      "Requirement already satisfied: platformdirs>=2.5 in c:\\anaconda\\lib\\site-packages (from jupyter-core>=4.7->nbconvert==7.16.1) (3.10.0)\n",
      "Requirement already satisfied: pywin32>=300 in c:\\anaconda\\lib\\site-packages (from jupyter-core>=4.7->nbconvert==7.16.1) (305.1)\n",
      "Requirement already satisfied: jupyter-client>=6.1.5 in c:\\anaconda\\lib\\site-packages (from nbclient>=0.5.0->nbconvert==7.16.1) (7.4.9)\n",
      "Requirement already satisfied: nest-asyncio in c:\\anaconda\\lib\\site-packages (from nbclient>=0.5.0->nbconvert==7.16.1) (1.5.6)\n",
      "Requirement already satisfied: fastjsonschema>=2.15 in c:\\anaconda\\lib\\site-packages (from nbformat>=5.7->nbconvert==7.16.1) (2.16.2)\n",
      "Requirement already satisfied: jsonschema>=2.6 in c:\\anaconda\\lib\\site-packages (from nbformat>=5.7->nbconvert==7.16.1) (4.19.2)\n",
      "Requirement already satisfied: soupsieve>1.2 in c:\\anaconda\\lib\\site-packages (from beautifulsoup4->nbconvert==7.16.1) (2.4)\n",
      "Requirement already satisfied: attrs>=22.2.0 in c:\\anaconda\\lib\\site-packages (from jsonschema>=2.6->nbformat>=5.7->nbconvert==7.16.1) (23.1.0)\n",
      "Requirement already satisfied: jsonschema-specifications>=2023.03.6 in c:\\anaconda\\lib\\site-packages (from jsonschema>=2.6->nbformat>=5.7->nbconvert==7.16.1) (2023.7.1)\n",
      "Requirement already satisfied: referencing>=0.28.4 in c:\\anaconda\\lib\\site-packages (from jsonschema>=2.6->nbformat>=5.7->nbconvert==7.16.1) (0.30.2)\n",
      "Requirement already satisfied: rpds-py>=0.7.1 in c:\\anaconda\\lib\\site-packages (from jsonschema>=2.6->nbformat>=5.7->nbconvert==7.16.1) (0.10.6)\n",
      "Requirement already satisfied: entrypoints in c:\\anaconda\\lib\\site-packages (from jupyter-client>=6.1.5->nbclient>=0.5.0->nbconvert==7.16.1) (0.4)\n",
      "Requirement already satisfied: python-dateutil>=2.8.2 in c:\\anaconda\\lib\\site-packages (from jupyter-client>=6.1.5->nbclient>=0.5.0->nbconvert==7.16.1) (2.8.2)\n",
      "Requirement already satisfied: pyzmq>=23.0 in c:\\anaconda\\lib\\site-packages (from jupyter-client>=6.1.5->nbclient>=0.5.0->nbconvert==7.16.1) (25.1.2)\n",
      "Requirement already satisfied: tornado>=6.2 in c:\\anaconda\\lib\\site-packages (from jupyter-client>=6.1.5->nbclient>=0.5.0->nbconvert==7.16.1) (6.3.2)\n",
      "Downloading nbconvert-7.16.1-py3-none-any.whl (257 kB)\n",
      "   ---------------------------------------- 0.0/257.3 kB ? eta -:--:--\n",
      "   ---------------------------------------- 0.0/257.3 kB ? eta -:--:--\n",
      "   ------- -------------------------------- 51.2/257.3 kB 1.3 MB/s eta 0:00:01\n",
      "   ----------- ---------------------------- 71.7/257.3 kB 1.3 MB/s eta 0:00:01\n",
      "   ----------------------- ---------------- 153.6/257.3 kB 1.5 MB/s eta 0:00:01\n",
      "   ----------------------- ---------------- 153.6/257.3 kB 1.5 MB/s eta 0:00:01\n",
      "   --------------------------- ---------- 184.3/257.3 kB 853.3 kB/s eta 0:00:01\n",
      "   ---------------------------------------  256.0/257.3 kB 1.0 MB/s eta 0:00:01\n",
      "   -------------------------------------- 257.3/257.3 kB 876.2 kB/s eta 0:00:00\n",
      "Using cached mistune-3.0.2-py3-none-any.whl (47 kB)\n",
      "Installing collected packages: mistune, nbconvert\n",
      "  Attempting uninstall: mistune\n",
      "    Found existing installation: mistune 0.8.4\n",
      "    Uninstalling mistune-0.8.4:\n",
      "      Successfully uninstalled mistune-0.8.4\n",
      "  Attempting uninstall: nbconvert\n",
      "    Found existing installation: nbconvert 6.5.4\n",
      "    Uninstalling nbconvert-6.5.4:\n",
      "      Successfully uninstalled nbconvert-6.5.4\n",
      "Successfully installed mistune-3.0.2 nbconvert-7.16.1\n"
     ]
    }
   ],
   "source": [
    "!pip install nbformat==5.10.4\n",
    "!pip install nbconvert==7.16.1\n"
   ]
  },
  {
   "cell_type": "code",
   "execution_count": null,
   "metadata": {},
   "outputs": [],
   "source": [
    "import os\n",
    "os._exit(00)\n"
   ]
  },
  {
   "cell_type": "code",
   "execution_count": 1,
   "metadata": {},
   "outputs": [
    {
     "name": "stdout",
     "output_type": "stream",
     "text": [
      "Name: nbformat\n",
      "Version: 5.10.4\n",
      "Summary: The Jupyter Notebook format\n",
      "Home-page: \n",
      "Author: \n",
      "Author-email: Jupyter Development Team <jupyter@googlegroups.com>\n",
      "License: BSD 3-Clause License\n",
      "\n",
      "- Copyright (c) 2001-2015, IPython Development Team\n",
      "- Copyright (c) 2015-, Jupyter Development Team\n",
      "\n",
      "All rights reserved.\n",
      "\n",
      "Redistribution and use in source and binary forms, with or without\n",
      "modification, are permitted provided that the following conditions are met:\n",
      "\n",
      "1. Redistributions of source code must retain the above copyright notice, this\n",
      "   list of conditions and the following disclaimer.\n",
      "\n",
      "2. Redistributions in binary form must reproduce the above copyright notice,\n",
      "   this list of conditions and the following disclaimer in the documentation\n",
      "   and/or other materials provided with the distribution.\n",
      "\n",
      "3. Neither the name of the copyright holder nor the names of its\n",
      "   contributors may be used to endorse or promote products derived from\n",
      "   this software without specific prior written permission.\n",
      "\n",
      "THIS SOFTWARE IS PROVIDED BY THE COPYRIGHT HOLDERS AND CONTRIBUTORS \"AS IS\"\n",
      "AND ANY EXPRESS OR IMPLIED WARRANTIES, INCLUDING, BUT NOT LIMITED TO, THE\n",
      "IMPLIED WARRANTIES OF MERCHANTABILITY AND FITNESS FOR A PARTICULAR PURPOSE ARE\n",
      "DISCLAIMED. IN NO EVENT SHALL THE COPYRIGHT HOLDER OR CONTRIBUTORS BE LIABLE\n",
      "FOR ANY DIRECT, INDIRECT, INCIDENTAL, SPECIAL, EXEMPLARY, OR CONSEQUENTIAL\n",
      "DAMAGES (INCLUDING, BUT NOT LIMITED TO, PROCUREMENT OF SUBSTITUTE GOODS OR\n",
      "SERVICES; LOSS OF USE, DATA, OR PROFITS; OR BUSINESS INTERRUPTION) HOWEVER\n",
      "CAUSED AND ON ANY THEORY OF LIABILITY, WHETHER IN CONTRACT, STRICT LIABILITY,\n",
      "OR TORT (INCLUDING NEGLIGENCE OR OTHERWISE) ARISING IN ANY WAY OUT OF THE USE\n",
      "OF THIS SOFTWARE, EVEN IF ADVISED OF THE POSSIBILITY OF SUCH DAMAGE.\n",
      "Location: C:\\Anaconda\\Lib\\site-packages\n",
      "Requires: fastjsonschema, jsonschema, jupyter-core, traitlets\n",
      "Required-by: anaconda-client, conda-repo-cli, jupyter_server, nbclassic, nbclient, nbconvert\n",
      "---\n",
      "Name: nbconvert\n",
      "Version: 7.16.1\n",
      "Summary: Converting Jupyter Notebooks (.ipynb files) to other formats.  Output formats include asciidoc, html, latex, markdown, pdf, py, rst, script.  nbconvert can be used both as a Python library (`import nbconvert`) or as a command line tool (invoked as `jupyter nbconvert ...`).\n",
      "Home-page: \n",
      "Author: \n",
      "Author-email: Jupyter Development Team <jupyter@googlegroups.com>\n",
      "License: BSD 3-Clause License\n",
      "\n",
      "- Copyright (c) 2001-2015, IPython Development Team\n",
      "- Copyright (c) 2015-, Jupyter Development Team\n",
      "\n",
      "All rights reserved.\n",
      "\n",
      "Redistribution and use in source and binary forms, with or without\n",
      "modification, are permitted provided that the following conditions are met:\n",
      "\n",
      "1. Redistributions of source code must retain the above copyright notice, this\n",
      "   list of conditions and the following disclaimer.\n",
      "\n",
      "2. Redistributions in binary form must reproduce the above copyright notice,\n",
      "   this list of conditions and the following disclaimer in the documentation\n",
      "   and/or other materials provided with the distribution.\n",
      "\n",
      "3. Neither the name of the copyright holder nor the names of its\n",
      "   contributors may be used to endorse or promote products derived from\n",
      "   this software without specific prior written permission.\n",
      "\n",
      "THIS SOFTWARE IS PROVIDED BY THE COPYRIGHT HOLDERS AND CONTRIBUTORS \"AS IS\"\n",
      "AND ANY EXPRESS OR IMPLIED WARRANTIES, INCLUDING, BUT NOT LIMITED TO, THE\n",
      "IMPLIED WARRANTIES OF MERCHANTABILITY AND FITNESS FOR A PARTICULAR PURPOSE ARE\n",
      "DISCLAIMED. IN NO EVENT SHALL THE COPYRIGHT HOLDER OR CONTRIBUTORS BE LIABLE\n",
      "FOR ANY DIRECT, INDIRECT, INCIDENTAL, SPECIAL, EXEMPLARY, OR CONSEQUENTIAL\n",
      "DAMAGES (INCLUDING, BUT NOT LIMITED TO, PROCUREMENT OF SUBSTITUTE GOODS OR\n",
      "SERVICES; LOSS OF USE, DATA, OR PROFITS; OR BUSINESS INTERRUPTION) HOWEVER\n",
      "CAUSED AND ON ANY THEORY OF LIABILITY, WHETHER IN CONTRACT, STRICT LIABILITY,\n",
      "OR TORT (INCLUDING NEGLIGENCE OR OTHERWISE) ARISING IN ANY WAY OUT OF THE USE\n",
      "OF THIS SOFTWARE, EVEN IF ADVISED OF THE POSSIBILITY OF SUCH DAMAGE.\n",
      "Location: C:\\Anaconda\\Lib\\site-packages\n",
      "Requires: beautifulsoup4, bleach, defusedxml, jinja2, jupyter-core, jupyterlab-pygments, markupsafe, mistune, nbclient, nbformat, packaging, pandocfilters, pygments, tinycss2, traitlets\n",
      "Required-by: jupyter, jupyter_server, nbclassic, spyder\n"
     ]
    }
   ],
   "source": [
    "!pip show nbformat nbconvert\n"
   ]
  },
  {
   "cell_type": "markdown",
   "metadata": {
    "id": "QVAZoxuKzVWA"
   },
   "source": [
    "# Iterators"
   ]
  },
  {
   "cell_type": "markdown",
   "metadata": {
    "id": "VbLTof32zaut"
   },
   "source": [
    "An **iterator** in Python is an object that allows you to traverse through all the elements in a collection, such as lists, tuples, or dictionaries, without needing to use indexing or a loop counter. Iterators are implemented using two main methods:\n",
    "\n",
    "\n",
    "1.   __iter__(): Returns the iterator object itself.\n",
    "2.   \n",
    "__next__(): Returns the next element in the sequence. When there are no more elements, it raises a StopIteration exception to signal that the iteration is complete."
   ]
  },
  {
   "cell_type": "markdown",
   "metadata": {
    "id": "ZfT1Pevbz0Yc"
   },
   "source": [
    "So let's first consider the basic python range function:"
   ]
  },
  {
   "cell_type": "code",
   "execution_count": 3,
   "metadata": {
    "colab": {
     "base_uri": "https://localhost:8080/"
    },
    "id": "bIje7rRSz4lY",
    "outputId": "b0c1faaf-933c-43c0-a719-f7103a95aa61"
   },
   "outputs": [
    {
     "data": {
      "text/plain": [
       "range(0, 10)"
      ]
     },
     "execution_count": 3,
     "metadata": {},
     "output_type": "execute_result"
    }
   ],
   "source": [
    "range(10)\n",
    "range(0, 10)"
   ]
  },
  {
   "cell_type": "code",
   "execution_count": 4,
   "metadata": {
    "id": "FYJmSkzGz7jb"
   },
   "outputs": [],
   "source": [
    "total = 0\n",
    "for x in range(int(1e6)):\n",
    "    total += x"
   ]
  },
  {
   "cell_type": "code",
   "execution_count": 5,
   "metadata": {
    "colab": {
     "base_uri": "https://localhost:8080/"
    },
    "id": "bl_lam3o0BNJ",
    "outputId": "7345e385-9528-402f-e2c8-f2dfd7a52b22"
   },
   "outputs": [
    {
     "data": {
      "text/plain": [
       "499999500000"
      ]
     },
     "execution_count": 5,
     "metadata": {},
     "output_type": "execute_result"
    }
   ],
   "source": [
    "total"
   ]
  },
  {
   "cell_type": "markdown",
   "metadata": {
    "id": "Bc4ih00H0JBo"
   },
   "source": [
    "In order to avoid allocating a million integers, range actually uses an iterator.\n",
    "We don't actually need a million integers at once, just each integer in turn up to a million.\n",
    "\n",
    "Because we can get an iterator from it, we say that a range is an iterable.\n",
    "So we can for-loop over it:"
   ]
  },
  {
   "cell_type": "code",
   "execution_count": 6,
   "metadata": {
    "colab": {
     "base_uri": "https://localhost:8080/"
    },
    "id": "yX-cG4t90Sgt",
    "outputId": "73e8232d-3d65-4107-e572-a3ec3730c49b"
   },
   "outputs": [
    {
     "name": "stdout",
     "output_type": "stream",
     "text": [
      "0\n",
      "1\n",
      "2\n"
     ]
    }
   ],
   "source": [
    "for i in range(3):\n",
    "    print(i)"
   ]
  },
  {
   "cell_type": "markdown",
   "metadata": {
    "id": "v7gFNR3x0X00"
   },
   "source": [
    "There are two important Python built-in functions for working with iterables. First is iter, which lets us create an iterator from any iterable object."
   ]
  },
  {
   "cell_type": "code",
   "execution_count": 7,
   "metadata": {
    "id": "SGK_Vcdo0S_B"
   },
   "outputs": [],
   "source": [
    "a = iter(range(3))"
   ]
  },
  {
   "cell_type": "markdown",
   "metadata": {
    "id": "Om8ziKmm0fw4"
   },
   "source": [
    "Once we have an iterator object, we can pass it to the next function. This moves the iterator forward, and gives us its next element:"
   ]
  },
  {
   "cell_type": "code",
   "execution_count": 8,
   "metadata": {
    "colab": {
     "base_uri": "https://localhost:8080/"
    },
    "id": "hOm9GlmO0cVW",
    "outputId": "7db2325c-0a19-43ff-9751-f64380dad64b"
   },
   "outputs": [
    {
     "data": {
      "text/plain": [
       "0"
      ]
     },
     "execution_count": 8,
     "metadata": {},
     "output_type": "execute_result"
    }
   ],
   "source": [
    "next(a)"
   ]
  },
  {
   "cell_type": "code",
   "execution_count": 9,
   "metadata": {
    "colab": {
     "base_uri": "https://localhost:8080/"
    },
    "id": "c8FLtuE-0kko",
    "outputId": "5ee00a4c-042c-4942-b567-9e469d84ce1e"
   },
   "outputs": [
    {
     "data": {
      "text/plain": [
       "1"
      ]
     },
     "execution_count": 9,
     "metadata": {},
     "output_type": "execute_result"
    }
   ],
   "source": [
    "next(a)"
   ]
  },
  {
   "cell_type": "code",
   "execution_count": 10,
   "metadata": {
    "colab": {
     "base_uri": "https://localhost:8080/"
    },
    "id": "ZNTP71X90olf",
    "outputId": "f23a4e19-de65-4642-ccf0-a6105614e05c"
   },
   "outputs": [
    {
     "data": {
      "text/plain": [
       "2"
      ]
     },
     "execution_count": 10,
     "metadata": {},
     "output_type": "execute_result"
    }
   ],
   "source": [
    "next(a)"
   ]
  },
  {
   "cell_type": "code",
   "execution_count": 11,
   "metadata": {
    "colab": {
     "base_uri": "https://localhost:8080/",
     "height": 148
    },
    "id": "7v0kReEt0qQq",
    "outputId": "b711e59b-a81f-4190-bd0b-30fcc22a44e0"
   },
   "outputs": [
    {
     "ename": "StopIteration",
     "evalue": "",
     "output_type": "error",
     "traceback": [
      "\u001b[0;31m---------------------------------------------------------------------------\u001b[0m",
      "\u001b[0;31mStopIteration\u001b[0m                             Traceback (most recent call last)",
      "\u001b[0;32m<ipython-input-11-15841f3f11d4>\u001b[0m in \u001b[0;36m<cell line: 1>\u001b[0;34m()\u001b[0m\n\u001b[0;32m----> 1\u001b[0;31m \u001b[0mnext\u001b[0m\u001b[0;34m(\u001b[0m\u001b[0ma\u001b[0m\u001b[0;34m)\u001b[0m\u001b[0;34m\u001b[0m\u001b[0;34m\u001b[0m\u001b[0m\n\u001b[0m",
      "\u001b[0;31mStopIteration\u001b[0m: "
     ]
    }
   ],
   "source": [
    "next(a)"
   ]
  },
  {
   "cell_type": "markdown",
   "metadata": {
    "id": "1aN_Vb6d0xFu"
   },
   "source": [
    "This tells Python that the iteration is over. For example, if we are in a for i in range(3) loop, this lets us know when we should exit the loop.\n",
    "\n",
    "We can turn an iterable or iterator into a list with the list constructor function:"
   ]
  },
  {
   "cell_type": "code",
   "execution_count": 12,
   "metadata": {
    "colab": {
     "base_uri": "https://localhost:8080/"
    },
    "id": "Vo5Vzot80rpO",
    "outputId": "6d50b2d7-0231-49e0-9fe9-7277783a69cd"
   },
   "outputs": [
    {
     "data": {
      "text/plain": [
       "[0, 1, 2, 3, 4]"
      ]
     },
     "execution_count": 12,
     "metadata": {},
     "output_type": "execute_result"
    }
   ],
   "source": [
    "list(range(5))"
   ]
  },
  {
   "cell_type": "markdown",
   "metadata": {
    "id": "O9-DhCm502aJ"
   },
   "source": [
    "## Step-by-Step Implementation:"
   ]
  },
  {
   "cell_type": "markdown",
   "metadata": {
    "id": "txLXW2qH1BOf"
   },
   "source": [
    "\n",
    "\n",
    "1.  **Define the Iterator Class:** Implement the __iter__ and __next__ methods.\n",
    "         \n",
    "2. **Initialize the Iterator:**\n",
    "Set the starting point and any required variables.\n",
    "3. **Handle the Iteration Logic:**\n",
    "Define how to return the next element and when to raise StopIteration."
   ]
  },
  {
   "cell_type": "code",
   "execution_count": 13,
   "metadata": {
    "colab": {
     "base_uri": "https://localhost:8080/"
    },
    "id": "5tJ809X501j9",
    "outputId": "ba302528-3b11-46d9-f054-1571c664eac2"
   },
   "outputs": [
    {
     "name": "stdout",
     "output_type": "stream",
     "text": [
      "0\n",
      "2\n",
      "4\n",
      "6\n",
      "8\n"
     ]
    }
   ],
   "source": [
    "class EvenNumbers:\n",
    "    def __init__(self, max_numbers):\n",
    "        self.max_numbers = max_numbers\n",
    "        self.current = 0\n",
    "        self.count = 0\n",
    "\n",
    "    def __iter__(self):\n",
    "        return self\n",
    "\n",
    "    def __next__(self):\n",
    "        if self.count >= self.max_numbers:\n",
    "            raise StopIteration\n",
    "        else:\n",
    "            even_number = self.current\n",
    "            self.current += 2\n",
    "            self.count += 1\n",
    "            return even_number\n",
    "\n",
    "# Using the EvenNumbers iterator\n",
    "even_numbers_iterator = EvenNumbers(5)\n",
    "\n",
    "for num in even_numbers_iterator:\n",
    "    print(num)\n"
   ]
  },
  {
   "cell_type": "markdown",
   "metadata": {
    "id": "wu0dm-o71n3w"
   },
   "source": [
    "## Explanation of the above code -"
   ]
  },
  {
   "cell_type": "markdown",
   "metadata": {
    "id": "J3L6SkeQ1sX3"
   },
   "source": [
    "###**Initialization:**\n",
    "\n",
    "\n",
    "\n",
    "*   The __init__ method initializes the iterator.\n",
    "*   It takes max_numbers as an argument to define how many even numbers to generate.\n",
    "*  It also initializes self.current to 0 and self.count to 0.\n",
    "\n",
    "###**Iterator Protocol:**\n",
    "\n",
    "*   The __iter__ method returns self, indicating that the object itself is the iterator.\n",
    "*  The __next__ method contains the logic to return the next even number.\n",
    "*  If the count of generated numbers has reached max_numbers, it raises StopIteration. Otherwise, it calculates the next even number, updates the state, and returns the current even number.\n",
    "\n",
    "###**Using the Iterator:**\n",
    "\n",
    "*   An instance of EvenNumbers is created with max_numbers set to 5.\n",
    "*   A for loop is used to iterate through the even numbers.\n",
    "* The loop internally calls the __next__ method until StopIteration is raised.\n",
    "\n",
    "\n",
    "\n",
    "\n"
   ]
  },
  {
   "cell_type": "markdown",
   "metadata": {
    "id": "R7vGF_q12sFZ"
   },
   "source": [
    "## Using Built-in Iterators"
   ]
  },
  {
   "cell_type": "markdown",
   "metadata": {
    "id": "7KmUpb7l2t5P"
   },
   "source": [
    "Python has several built-in objects that implement the iterator protocol, such as lists, tuples, and dictionaries. You can easily convert these objects into iterators using the iter() function and get the next item using the next() function.\n",
    "\n",
    "Example :"
   ]
  },
  {
   "cell_type": "code",
   "execution_count": 14,
   "metadata": {
    "colab": {
     "base_uri": "https://localhost:8080/",
     "height": 258
    },
    "id": "ZWVDZmZW2reh",
    "outputId": "80045a16-bddc-4f88-f3cb-97c6e78ad0f1"
   },
   "outputs": [
    {
     "name": "stdout",
     "output_type": "stream",
     "text": [
      "1\n",
      "2\n",
      "3\n",
      "4\n"
     ]
    },
    {
     "ename": "StopIteration",
     "evalue": "",
     "output_type": "error",
     "traceback": [
      "\u001b[0;31m---------------------------------------------------------------------------\u001b[0m",
      "\u001b[0;31mStopIteration\u001b[0m                             Traceback (most recent call last)",
      "\u001b[0;32m<ipython-input-14-ede86052819e>\u001b[0m in \u001b[0;36m<cell line: 11>\u001b[0;34m()\u001b[0m\n\u001b[1;32m      9\u001b[0m \u001b[0;34m\u001b[0m\u001b[0m\n\u001b[1;32m     10\u001b[0m \u001b[0;31m# Raises StopIteration as there are no more items\u001b[0m\u001b[0;34m\u001b[0m\u001b[0;34m\u001b[0m\u001b[0m\n\u001b[0;32m---> 11\u001b[0;31m \u001b[0mprint\u001b[0m\u001b[0;34m(\u001b[0m\u001b[0mnext\u001b[0m\u001b[0;34m(\u001b[0m\u001b[0mmy_iterator\u001b[0m\u001b[0;34m)\u001b[0m\u001b[0;34m)\u001b[0m\u001b[0;34m\u001b[0m\u001b[0;34m\u001b[0m\u001b[0m\n\u001b[0m",
      "\u001b[0;31mStopIteration\u001b[0m: "
     ]
    }
   ],
   "source": [
    "# Using a list as an iterator\n",
    "my_list = [1, 2, 3, 4]\n",
    "my_iterator = iter(my_list)\n",
    "\n",
    "print(next(my_iterator))  # Output: 1\n",
    "print(next(my_iterator))  # Output: 2\n",
    "print(next(my_iterator))  # Output: 3\n",
    "print(next(my_iterator))  # Output: 4\n",
    "\n",
    "# Raises StopIteration as there are no more items\n",
    "print(next(my_iterator))\n"
   ]
  },
  {
   "cell_type": "markdown",
   "metadata": {
    "id": "dSnwu3ys28Zk"
   },
   "source": [
    "##Explanation of Built-in Iterators:"
   ]
  },
  {
   "cell_type": "markdown",
   "metadata": {
    "id": "dBPhZA8S2_53"
   },
   "source": [
    "\n",
    "*   **Conversion:** The iter() function is used to convert a list (my_list) into an iterator (my_iterator).\n",
    "\n",
    "*   **Iteration:** The next() function retrieves the next item from the iterator until the end of the list is reached. When there are no more items, it raises a StopIteration exception."
   ]
  },
  {
   "cell_type": "markdown",
   "metadata": {
    "id": "3v2vSI2O3hxI"
   },
   "source": [
    "## Conclusion"
   ]
  },
  {
   "cell_type": "markdown",
   "metadata": {
    "id": "SzjIzGE73jXo"
   },
   "source": [
    "Iterators provide a powerful and memory-efficient way to handle sequences of data in Python. By implementing the iterator protocol (__iter__ and __next__), custom objects can support iteration, allowing for more flexible and reusable code. Built-in collections like lists and dictionaries already support iteration, making it easy to traverse their elements without needing explicit counters or indexing."
   ]
  }
 ],
 "metadata": {
  "colab": {
   "provenance": []
  },
  "kernelspec": {
   "display_name": "Python 3 (ipykernel)",
   "language": "python",
   "name": "python3"
  },
  "language_info": {
   "codemirror_mode": {
    "name": "ipython",
    "version": 3
   },
   "file_extension": ".py",
   "mimetype": "text/x-python",
   "name": "python",
   "nbconvert_exporter": "python",
   "pygments_lexer": "ipython3",
   "version": "3.11.5"
  }
 },
 "nbformat": 4,
 "nbformat_minor": 4
}
