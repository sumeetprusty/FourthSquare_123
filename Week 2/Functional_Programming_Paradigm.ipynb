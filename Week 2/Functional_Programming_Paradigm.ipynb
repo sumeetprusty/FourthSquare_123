{
  "nbformat": 4,
  "nbformat_minor": 0,
  "metadata": {
    "colab": {
      "provenance": []
    },
    "kernelspec": {
      "name": "python3",
      "display_name": "Python 3"
    },
    "language_info": {
      "name": "python"
    }
  },
  "cells": [
    {
      "cell_type": "markdown",
      "source": [
        "# Functional Programming Paradigm"
      ],
      "metadata": {
        "id": "dhk-2aCXKvIV"
      }
    },
    {
      "cell_type": "markdown",
      "source": [
        "Functional programming is a programming paradigm in which we try to bind everything in pure mathematical functions style. It is a declarative type of programming style. Its main focus is on “what to solve” in contrast to an imperative style where the main focus is “how to solve”. It uses expressions instead of statements. An expression is evaluated to produce a value whereas a statement is executed to assign variables."
      ],
      "metadata": {
        "id": "X0P1F3KaK0Zt"
      }
    },
    {
      "cell_type": "markdown",
      "source": [
        "## Functional Programming is based on Lambda Calculus:"
      ],
      "metadata": {
        "id": "Sa_jDwmBLyZj"
      }
    },
    {
      "cell_type": "markdown",
      "source": [
        "Lambda calculus is a framework developed by Alonzo Church to study computations with functions. It can be called as the smallest programming language in the world. It gives the definition of what is computable. Anything that can be computed by lambda calculus is computable. It is equivalent to Turing machine in its ability to compute."
      ],
      "metadata": {
        "id": "NDcEStm4L44p"
      }
    },
    {
      "cell_type": "markdown",
      "source": [
        "Concepts of functional programming:\n",
        "*   Pure functions\n",
        "*   Recursion\n",
        "* Referential transparency\n",
        "* Functions are First-Class and can be Higher-Order\n",
        "* Variables are Immutable"
      ],
      "metadata": {
        "id": "oQTqwaPvL-Ux"
      }
    },
    {
      "cell_type": "markdown",
      "source": [
        "## Pure Functions"
      ],
      "metadata": {
        "id": "EGO2GEONMP7b"
      }
    },
    {
      "cell_type": "markdown",
      "source": [
        "A pure function is a function where the output value is determined only by its input values, without observable side effects.\n",
        "\n",
        "Characteristics:\n",
        "\n",
        "\n",
        "\n",
        "*   Given the same input, it will always return the same output.\n",
        "*   No side effects (e.g., modifying a global variable or a data structure, I/O operations).\n",
        "\n",
        "\n"
      ],
      "metadata": {
        "id": "m889bNDJMThZ"
      }
    },
    {
      "cell_type": "code",
      "execution_count": 1,
      "metadata": {
        "colab": {
          "base_uri": "https://localhost:8080/"
        },
        "id": "lWYiv73YkWjv",
        "outputId": "fc579e29-a007-40e3-9891-93e444dd29e3"
      },
      "outputs": [
        {
          "output_type": "stream",
          "name": "stdout",
          "text": [
            "8\n",
            "8\n"
          ]
        }
      ],
      "source": [
        "# Pure function: no side effects and returns the same result for the same inputs.\n",
        "def add(x, y):\n",
        "    return x + y\n",
        "\n",
        "print(add(3, 5))  # Output: 8\n",
        "print(add(3, 5))  # Output: 8 (always the same for the same inputs)\n"
      ]
    },
    {
      "cell_type": "markdown",
      "source": [
        "## Recursion"
      ],
      "metadata": {
        "id": "kLx1U92HMpIb"
      }
    },
    {
      "cell_type": "markdown",
      "source": [
        "Recursion is a technique where a function calls itself in order to solve a problem. Functional programming relies heavily on recursion instead of traditional looping constructs."
      ],
      "metadata": {
        "id": "ihT-zerFMrlG"
      }
    },
    {
      "cell_type": "code",
      "source": [
        "# Function to calculate factorial using recursion\n",
        "def factorial(n):\n",
        "    if n == 0:\n",
        "        return 1\n",
        "    else:\n",
        "        return n * factorial(n - 1)\n",
        "\n",
        "print(factorial(5))  # Output: 120\n"
      ],
      "metadata": {
        "colab": {
          "base_uri": "https://localhost:8080/"
        },
        "id": "1t-gWQgkMb16",
        "outputId": "ceec18e7-edf3-4aab-9293-bb46ce5d03c6"
      },
      "execution_count": 2,
      "outputs": [
        {
          "output_type": "stream",
          "name": "stdout",
          "text": [
            "120\n"
          ]
        }
      ]
    },
    {
      "cell_type": "markdown",
      "source": [
        "## Referential Transparency"
      ],
      "metadata": {
        "id": "lKZ3xNc3MvMw"
      }
    },
    {
      "cell_type": "markdown",
      "source": [
        "A function is referentially transparent if it can be replaced with its value without changing the program's behavior. This is closely related to the concept of pure functions."
      ],
      "metadata": {
        "id": "ZCKDmc0UMxB1"
      }
    },
    {
      "cell_type": "code",
      "source": [
        "# Pure function and referentially transparent\n",
        "def square(x):\n",
        "    return x * x\n",
        "\n",
        "# Replace function call with its result\n",
        "result = square(4)  # 16\n",
        "print(result)  # Output: 16\n",
        "\n",
        "# Replace the function call with its value directly\n",
        "result = 16\n",
        "print(result)  # Output: 16\n"
      ],
      "metadata": {
        "colab": {
          "base_uri": "https://localhost:8080/"
        },
        "id": "suEuv_XSMtZD",
        "outputId": "ca142665-4ab7-41f4-aa51-39fbb897c62a"
      },
      "execution_count": 3,
      "outputs": [
        {
          "output_type": "stream",
          "name": "stdout",
          "text": [
            "16\n",
            "16\n"
          ]
        }
      ]
    },
    {
      "cell_type": "markdown",
      "source": [
        "## Functions are First-Class and can be Higher-Order"
      ],
      "metadata": {
        "id": "VjNkQ7sPM2j9"
      }
    },
    {
      "cell_type": "markdown",
      "source": [
        "In functional programming, functions are first-class citizens. This means they can be passed as arguments to other functions, returned as values from other functions, and assigned to variables. Higher-order functions are functions that take other functions as arguments or return them as results."
      ],
      "metadata": {
        "id": "YJ2p4DR9M4bj"
      }
    },
    {
      "cell_type": "code",
      "source": [
        "# Function as first-class citizen\n",
        "def greet(name):\n",
        "    return f\"Hello, {name}!\"\n",
        "\n",
        "def call_function(func, value):\n",
        "    return func(value)\n",
        "\n",
        "print(call_function(greet, \"Alice\"))  # Output: \"Hello, Alice!\"\n",
        "\n",
        "# Higher-order function\n",
        "def apply_twice(func, value):\n",
        "    return func(func(value))\n",
        "\n",
        "def increment(x):\n",
        "    return x + 1\n",
        "\n",
        "print(apply_twice(increment, 3))  # Output: 5 (incremented twice)\n"
      ],
      "metadata": {
        "colab": {
          "base_uri": "https://localhost:8080/"
        },
        "id": "wCLTldBwM0GT",
        "outputId": "d7fb4bc6-8209-4b7e-8bac-0082844955a3"
      },
      "execution_count": 4,
      "outputs": [
        {
          "output_type": "stream",
          "name": "stdout",
          "text": [
            "Hello, Alice!\n",
            "5\n"
          ]
        }
      ]
    },
    {
      "cell_type": "markdown",
      "source": [
        "## Variables are Immutable"
      ],
      "metadata": {
        "id": "k2zZev-DM-tf"
      }
    },
    {
      "cell_type": "markdown",
      "source": [
        "In functional programming, variables once created cannot be modified. Instead of changing the state, new states are created as needed."
      ],
      "metadata": {
        "id": "XKvQAzYiNA_i"
      }
    },
    {
      "cell_type": "code",
      "source": [
        "# Immutable data example with tuples\n",
        "x = (1, 2, 3)\n",
        "y = x + (4, 5, 6)\n",
        "\n",
        "print(x)  # Output: (1, 2, 3) (original tuple is unchanged)\n",
        "print(y)  # Output: (1, 2, 3, 4, 5, 6) (new tuple created)\n",
        "\n",
        "# Immutable variables example\n",
        "x = 10\n",
        "y = x + 5\n",
        "\n",
        "print(x)  # Output: 10 (original value is unchanged)\n",
        "print(y)  # Output: 15 (new value)\n"
      ],
      "metadata": {
        "colab": {
          "base_uri": "https://localhost:8080/"
        },
        "id": "9PBVsRX1M8dx",
        "outputId": "10367093-5ac1-4705-a6a0-9319ee090b27"
      },
      "execution_count": 5,
      "outputs": [
        {
          "output_type": "stream",
          "name": "stdout",
          "text": [
            "(1, 2, 3)\n",
            "(1, 2, 3, 4, 5, 6)\n",
            "10\n",
            "15\n"
          ]
        }
      ]
    },
    {
      "cell_type": "markdown",
      "source": [
        "## Summary"
      ],
      "metadata": {
        "id": "zPui1KtwNFkI"
      }
    },
    {
      "cell_type": "markdown",
      "source": [
        "\n",
        "\n",
        "*   **Pure Functions:** Functions that always produce the same output for the same input without side effects.\n",
        "*   **Recursion:** Solving problems by defining functions that call themselves.\n",
        "* **Referential Transparency:** Expressions can be replaced by their values without affecting the program.\n",
        "* **First-Class and Higher-Order Functions**: Functions are treated as values and can be passed as arguments or returned by other functions.\n",
        "* **Immutable Variables:** Variables and data are not altered; instead, new values and states are created.\n",
        "\n",
        "By adhering to these principles, functional programming ensures more predictable and maintainable code, making it easier to reason about and test."
      ],
      "metadata": {
        "id": "NwxtXdzGNIbd"
      }
    }
  ]
}