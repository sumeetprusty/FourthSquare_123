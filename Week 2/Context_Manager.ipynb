{
  "nbformat": 4,
  "nbformat_minor": 0,
  "metadata": {
    "colab": {
      "provenance": []
    },
    "kernelspec": {
      "name": "python3",
      "display_name": "Python 3"
    },
    "language_info": {
      "name": "python"
    }
  },
  "cells": [
    {
      "cell_type": "markdown",
      "source": [
        "# Context Manager"
      ],
      "metadata": {
        "id": "Wk_BIkIjxfs0"
      }
    },
    {
      "cell_type": "markdown",
      "source": [
        "In any programming language, the usage of resources like file operations or database connections is very common. But these resources are limited in supply. Therefore, the main problem lies in making sure to release these resources after usage. If they are not released then it will lead to resource leakage and may cause the system to either slow down or crash. It would be very helpful if users have a mechanism for the automatic setup and teardown of resources. In Python, it can be achieved by the usage of context managers which facilitate the proper handling of resources."
      ],
      "metadata": {
        "id": "R_J-6kWZxi5y"
      }
    },
    {
      "cell_type": "markdown",
      "source": [
        "##  Basic Usage with with Statement"
      ],
      "metadata": {
        "id": "0QcqASXtxkMU"
      }
    },
    {
      "cell_type": "markdown",
      "source": [
        "The with statement simplifies exception handling by encapsulating common preparation and cleanup tasks. For example, when working with files:"
      ],
      "metadata": {
        "id": "jVGSHMnhxtFH"
      }
    },
    {
      "cell_type": "code",
      "execution_count": null,
      "metadata": {
        "id": "ZZu4ov04xeXL"
      },
      "outputs": [],
      "source": [
        "with open('example.txt', 'w') as file:\n",
        "    file.write('Hello, world!')\n"
      ]
    },
    {
      "cell_type": "markdown",
      "source": [
        "In the above example:\n",
        "*   The **open** function returns a file object that acts as a context manager.\n",
        "*   The **with** statement ensures that the file is properly closed after its suite finishes, even if an exception is raised.\n",
        "\n",
        "\n"
      ],
      "metadata": {
        "id": "oH8WJHxmx1ss"
      }
    },
    {
      "cell_type": "markdown",
      "source": [
        "##  Implementing a Context Manager with a Class"
      ],
      "metadata": {
        "id": "DKUp9GC8yi1r"
      }
    },
    {
      "cell_type": "markdown",
      "source": [
        "You can create your own context managers using classes by implementing the __enter__ and __exit__ methods."
      ],
      "metadata": {
        "id": "b_bJFXiVynBn"
      }
    },
    {
      "cell_type": "code",
      "source": [
        "class MyContextManager:\n",
        "    def __enter__(self):\n",
        "        print(\"Entering the context\")\n",
        "        return self\n",
        "\n",
        "    def __exit__(self, exc_type, exc_value, traceback):\n",
        "        print(\"Exiting the context\")\n",
        "        if exc_type:\n",
        "            print(f\"An exception occurred: {exc_type}\")\n",
        "        return True  # Suppress exceptions if True\n",
        "\n",
        "with MyContextManager() as manager:\n",
        "    print(\"Within the context\")\n",
        "    # Raise an exception to see how it's handled\n",
        "    raise ValueError(\"An error occurred\")\n"
      ],
      "metadata": {
        "colab": {
          "base_uri": "https://localhost:8080/"
        },
        "id": "MpTktCoAyr2V",
        "outputId": "3f92bbbe-cdfa-4da7-f6b8-1eae31b80a24"
      },
      "execution_count": null,
      "outputs": [
        {
          "output_type": "stream",
          "name": "stdout",
          "text": [
            "Entering the context\n",
            "Within the context\n",
            "Exiting the context\n",
            "An exception occurred: <class 'ValueError'>\n"
          ]
        }
      ]
    },
    {
      "cell_type": "markdown",
      "source": [
        "## Implementing a Context Manager with contextlib Library"
      ],
      "metadata": {
        "id": "f9yGvWJSyyhK"
      }
    },
    {
      "cell_type": "markdown",
      "source": [
        "The contextlib module provides a simpler way to create context managers using the @contextmanager decorator."
      ],
      "metadata": {
        "id": "554jXTE5y4o1"
      }
    },
    {
      "cell_type": "code",
      "source": [
        "from contextlib import contextmanager\n",
        "\n",
        "@contextmanager\n",
        "def my_context_manager():\n",
        "    print(\"Entering the context\")\n",
        "    try:\n",
        "        yield\n",
        "    except Exception as e:\n",
        "        print(f\"Exception occurred: {e}\")\n",
        "        raise\n",
        "    finally:\n",
        "        print(\"Exiting the context\")\n",
        "\n",
        "try:\n",
        "    with my_context_manager():\n",
        "        print(\"Within the context\")\n",
        "        # Raise an exception to see how it's handled\n",
        "        raise ValueError(\"An error occurred\")\n",
        "except ValueError as e:\n",
        "    print(f\"Caught an exception: {e}\")\n"
      ],
      "metadata": {
        "colab": {
          "base_uri": "https://localhost:8080/"
        },
        "id": "UTaXUGv4ysSN",
        "outputId": "6cb3bc1d-285f-4985-c3a3-698aa4a1410b"
      },
      "execution_count": null,
      "outputs": [
        {
          "output_type": "stream",
          "name": "stdout",
          "text": [
            "Entering the context\n",
            "Within the context\n",
            "Exception occurred: An error occurred\n",
            "Exiting the context\n",
            "Caught an exception: An error occurred\n"
          ]
        }
      ]
    },
    {
      "cell_type": "markdown",
      "source": [
        "## Practical Example: Database Connection"
      ],
      "metadata": {
        "id": "hWclTE8mzV23"
      }
    },
    {
      "cell_type": "code",
      "source": [
        "class DatabaseConnection:\n",
        "    def __init__(self, db_name):\n",
        "        self.db_name = db_name\n",
        "\n",
        "    def __enter__(self):\n",
        "        print(f\"Connecting to database {self.db_name}\")\n",
        "        # Simulate opening a database connection\n",
        "        self.connection = f\"Connection to {self.db_name}\"\n",
        "        return self.connection\n",
        "\n",
        "    def __exit__(self, exc_type, exc_value, traceback):\n",
        "        print(f\"Closing database {self.db_name}\")\n",
        "        # Simulate closing a database connection\n",
        "        self.connection = None\n",
        "\n",
        "with DatabaseConnection('my_database') as conn:\n",
        "    print(f\"Using {conn}\")\n",
        "    # Perform database operations here\n"
      ],
      "metadata": {
        "colab": {
          "base_uri": "https://localhost:8080/"
        },
        "id": "OrHSbHPYy8kU",
        "outputId": "c32011a2-ce40-47b3-9041-1fb59661de3e"
      },
      "execution_count": null,
      "outputs": [
        {
          "output_type": "stream",
          "name": "stdout",
          "text": [
            "Connecting to database my_database\n",
            "Using Connection to my_database\n",
            "Closing database my_database\n"
          ]
        }
      ]
    },
    {
      "cell_type": "markdown",
      "source": [
        "## Handling Exceptions"
      ],
      "metadata": {
        "id": "gaKZvwU0zgjR"
      }
    },
    {
      "cell_type": "markdown",
      "source": [
        "If you need to handle exceptions that occur within the context, you can do so in the __exit__ method or within the try block when using contextlib."
      ],
      "metadata": {
        "id": "1aVrDZ-Ozkhr"
      }
    },
    {
      "cell_type": "code",
      "source": [
        "@contextmanager\n",
        "def managed_resource():\n",
        "    print(\"Acquiring resource\")\n",
        "    try:\n",
        "        yield\n",
        "    except Exception as e:\n",
        "        print(f\"Exception: {e}\")\n",
        "    finally:\n",
        "        print(\"Releasing resource\")\n",
        "\n",
        "with managed_resource():\n",
        "    print(\"Using resource\")\n",
        "    raise RuntimeError(\"Something went wrong\")\n"
      ],
      "metadata": {
        "colab": {
          "base_uri": "https://localhost:8080/"
        },
        "id": "DC25TXZkzbef",
        "outputId": "7a3ee162-4714-4790-97fe-0949bf958542"
      },
      "execution_count": null,
      "outputs": [
        {
          "output_type": "stream",
          "name": "stdout",
          "text": [
            "Acquiring resource\n",
            "Using resource\n",
            "Exception: Something went wrong\n",
            "Releasing resource\n"
          ]
        }
      ]
    },
    {
      "cell_type": "markdown",
      "source": [
        "Thus, context managers in Python provide a robust way to ensure that resources are properly managed. Whether using the with statement with built-in context managers, creating your own with classes, or using the contextlib module, context managers help make your code cleaner and more reliable."
      ],
      "metadata": {
        "id": "qWsDWLwqzqjp"
      }
    }
  ]
}