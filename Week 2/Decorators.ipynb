{
  "nbformat": 4,
  "nbformat_minor": 0,
  "metadata": {
    "colab": {
      "provenance": []
    },
    "kernelspec": {
      "name": "python3",
      "display_name": "Python 3"
    },
    "language_info": {
      "name": "python"
    }
  },
  "cells": [
    {
      "cell_type": "markdown",
      "source": [
        "# Decorators\n",
        "\n",
        "\n"
      ],
      "metadata": {
        "id": "I0btai8JqqFF"
      }
    },
    {
      "cell_type": "markdown",
      "source": [
        "Decorators in Python are a powerful and versatile feature that allow you to modify or extend the behavior of functions or methods. They provide a way to wrap another function in order to extend its behavior without permanently modifying it."
      ],
      "metadata": {
        "id": "-TW7G3D6qvoa"
      }
    },
    {
      "cell_type": "markdown",
      "source": [
        "## Basic Concept of Decorators"
      ],
      "metadata": {
        "id": "J6ZEfPZdqzQb"
      }
    },
    {
      "cell_type": "markdown",
      "source": [
        "A decorator is a function that takes another function as an argument, extends its behavior, and returns a new function with the extended behavior.\n",
        "\n",
        "Here's a basic example of a decorator:"
      ],
      "metadata": {
        "id": "DPvs4czmq077"
      }
    },
    {
      "cell_type": "code",
      "execution_count": null,
      "metadata": {
        "colab": {
          "base_uri": "https://localhost:8080/"
        },
        "id": "hCu6M-1tqE14",
        "outputId": "c1106ccd-c20e-4bec-e5a8-d76eb48a2c51"
      },
      "outputs": [
        {
          "output_type": "stream",
          "name": "stdout",
          "text": [
            "Something is happening before the function is called.\n",
            "Hello!\n",
            "Something is happening after the function is called.\n"
          ]
        }
      ],
      "source": [
        "def my_decorator(func):\n",
        "    def wrapper():\n",
        "        print(\"Something is happening before the function is called.\")\n",
        "        func()\n",
        "        print(\"Something is happening after the function is called.\")\n",
        "    return wrapper\n",
        "\n",
        "def say_hello():\n",
        "    print(\"Hello!\")\n",
        "\n",
        "say_hello = my_decorator(say_hello)\n",
        "say_hello()\n"
      ]
    },
    {
      "cell_type": "markdown",
      "source": [
        "In the above example:\n",
        "\n",
        "*   my_decorator is a decorator function.\n",
        "*   wrapper is an inner function that adds some behavior before and after calling the original function (func).\n",
        "* say_hello is the original function that we want to decorate.\n",
        "* say_hello = my_decorator(say_hello) applies the decorator to say_hello."
      ],
      "metadata": {
        "id": "dd5au3p7rAwk"
      }
    },
    {
      "cell_type": "markdown",
      "source": [
        "## Using the @ Syntax"
      ],
      "metadata": {
        "id": "S7ftZ9slrVmn"
      }
    },
    {
      "cell_type": "markdown",
      "source": [
        "Python provides a more convenient way to apply decorators using the @ syntax:"
      ],
      "metadata": {
        "id": "EXavwKhErXWT"
      }
    },
    {
      "cell_type": "code",
      "source": [
        "def my_decorator(func):\n",
        "    def wrapper():\n",
        "        print(\"Something is happening before the function is called.\")\n",
        "        func()\n",
        "        print(\"Something is happening after the function is called.\")\n",
        "    return wrapper\n",
        "\n",
        "@my_decorator\n",
        "def say_hello():\n",
        "    print(\"Hello!\")\n",
        "\n",
        "say_hello()\n"
      ],
      "metadata": {
        "colab": {
          "base_uri": "https://localhost:8080/"
        },
        "id": "yaGSobv1q5lw",
        "outputId": "c4c93b33-1f60-4f4a-c8f5-0e7ed6cc781a"
      },
      "execution_count": null,
      "outputs": [
        {
          "output_type": "stream",
          "name": "stdout",
          "text": [
            "Something is happening before the function is called.\n",
            "Hello!\n",
            "Something is happening after the function is called.\n"
          ]
        }
      ]
    },
    {
      "cell_type": "markdown",
      "source": [
        "The above functionally is equivalent to the previous example but uses the @ syntax to apply the decorator."
      ],
      "metadata": {
        "id": "9DHpIzCjrm1F"
      }
    },
    {
      "cell_type": "markdown",
      "source": [
        "## Decorators with Arguments"
      ],
      "metadata": {
        "id": "DyvgCzv6rt67"
      }
    },
    {
      "cell_type": "markdown",
      "source": [
        "If your original function takes arguments, the wrapper function must accept these arguments and pass them along to the original function:"
      ],
      "metadata": {
        "id": "MDfpNKNgsN5m"
      }
    },
    {
      "cell_type": "code",
      "source": [
        "def my_decorator(func):\n",
        "    def wrapper(*args, **kwargs):\n",
        "        print(\"Something is happening before the function is called.\")\n",
        "        result = func(*args, **kwargs)\n",
        "        print(\"Something is happening after the function is called.\")\n",
        "        return result\n",
        "    return wrapper\n",
        "\n",
        "@my_decorator\n",
        "def say_hello(name):\n",
        "    print(f\"Hello, {name}!\")\n",
        "\n",
        "say_hello(\"Alice\")\n"
      ],
      "metadata": {
        "colab": {
          "base_uri": "https://localhost:8080/"
        },
        "id": "Q-u9jfVFrey5",
        "outputId": "55e6921a-0d61-4244-d521-3289d8354d30"
      },
      "execution_count": null,
      "outputs": [
        {
          "output_type": "stream",
          "name": "stdout",
          "text": [
            "Something is happening before the function is called.\n",
            "Hello, Alice!\n",
            "Something is happening after the function is called.\n"
          ]
        }
      ]
    },
    {
      "cell_type": "markdown",
      "source": [
        "## Returning Values from Decorated Functions"
      ],
      "metadata": {
        "id": "ay-fHA_hssWY"
      }
    },
    {
      "cell_type": "markdown",
      "source": [
        "If the original function returns a value, the wrapper function should also return that value:"
      ],
      "metadata": {
        "id": "X6QE9np-svoS"
      }
    },
    {
      "cell_type": "code",
      "source": [
        "def my_decorator(func):\n",
        "    def wrapper(*args, **kwargs):\n",
        "        print(\"Something is happening before the function is called.\")\n",
        "        result = func(*args, **kwargs)\n",
        "        print(\"Something is happening after the function is called.\")\n",
        "        return result\n",
        "    return wrapper\n",
        "\n",
        "@my_decorator\n",
        "def add(a, b):\n",
        "    return a + b\n",
        "\n",
        "result = add(3, 4)\n",
        "print(f\"Result: {result}\")\n"
      ],
      "metadata": {
        "colab": {
          "base_uri": "https://localhost:8080/"
        },
        "id": "XVUuWkc5spsw",
        "outputId": "4c41079c-e419-4407-e21e-cd77a0b47348"
      },
      "execution_count": null,
      "outputs": [
        {
          "output_type": "stream",
          "name": "stdout",
          "text": [
            "Something is happening before the function is called.\n",
            "Something is happening after the function is called.\n",
            "Result: 7\n"
          ]
        }
      ]
    },
    {
      "cell_type": "markdown",
      "source": [
        "## Chaining Decorators"
      ],
      "metadata": {
        "id": "v7D8ouSRs1x_"
      }
    },
    {
      "cell_type": "markdown",
      "source": [
        "You can apply multiple decorators to a single function. They are applied in the order from the closest to the function signature outwards:"
      ],
      "metadata": {
        "id": "eRIoWvXvs3ld"
      }
    },
    {
      "cell_type": "code",
      "source": [
        "def decorator1(func):\n",
        "    def wrapper(*args, **kwargs):\n",
        "        print(\"Decorator 1 before\")\n",
        "        result = func(*args, **kwargs)\n",
        "        print(\"Decorator 1 after\")\n",
        "        return result\n",
        "    return wrapper\n",
        "\n",
        "def decorator2(func):\n",
        "    def wrapper(*args, **kwargs):\n",
        "        print(\"Decorator 2 before\")\n",
        "        result = func(*args, **kwargs)\n",
        "        print(\"Decorator 2 after\")\n",
        "        return result\n",
        "    return wrapper\n",
        "\n",
        "@decorator1\n",
        "@decorator2\n",
        "def greet(name):\n",
        "    print(f\"Hello, {name}!\")\n",
        "\n",
        "greet(\"Alice\")\n"
      ],
      "metadata": {
        "colab": {
          "base_uri": "https://localhost:8080/"
        },
        "id": "OIuXEj6ZsyX8",
        "outputId": "dbc33c7b-ab2d-4d8b-8e1a-0c9d4ee39959"
      },
      "execution_count": null,
      "outputs": [
        {
          "output_type": "stream",
          "name": "stdout",
          "text": [
            "Decorator 1 before\n",
            "Decorator 2 before\n",
            "Hello, Alice!\n",
            "Decorator 2 after\n",
            "Decorator 1 after\n"
          ]
        }
      ]
    },
    {
      "cell_type": "markdown",
      "source": [
        "## Using functools.wraps"
      ],
      "metadata": {
        "id": "UCj1bnM6tBBL"
      }
    },
    {
      "cell_type": "markdown",
      "source": [
        "When you use decorators, the original function’s metadata (like its name, docstring, etc.) is lost. To preserve this metadata, you should use functools.wraps:"
      ],
      "metadata": {
        "id": "TZ7yneVXtSBH"
      }
    },
    {
      "cell_type": "code",
      "source": [
        "import functools\n",
        "\n",
        "def my_decorator(func):\n",
        "    @functools.wraps(func)\n",
        "    def wrapper(*args, **kwargs):\n",
        "        print(\"Something is happening before the function is called.\")\n",
        "        result = func(*args, **kwargs)\n",
        "        print(\"Something is happening after the function is called.\")\n",
        "        return result\n",
        "    return wrapper\n",
        "\n",
        "@my_decorator\n",
        "def say_hello(name):\n",
        "    \"\"\"Greet someone by their name.\"\"\"\n",
        "    print(f\"Hello, {name}!\")\n",
        "\n",
        "print(say_hello.__name__)  # Outputs: say_hello\n",
        "print(say_hello.__doc__)   # Outputs: Greet someone by their name.\n"
      ],
      "metadata": {
        "colab": {
          "base_uri": "https://localhost:8080/"
        },
        "id": "oxqVu-hds9zm",
        "outputId": "159c4c9d-964c-41a5-85d5-62744a740650"
      },
      "execution_count": null,
      "outputs": [
        {
          "output_type": "stream",
          "name": "stdout",
          "text": [
            "say_hello\n",
            "Greet someone by their name.\n"
          ]
        }
      ]
    },
    {
      "cell_type": "markdown",
      "source": [
        "## Decorators with Parameters"
      ],
      "metadata": {
        "id": "x69dWpeQtX7H"
      }
    },
    {
      "cell_type": "markdown",
      "source": [
        "Sometimes you might want to pass parameters to your decorators. To do this, you need to define a function that returns a decorator:"
      ],
      "metadata": {
        "id": "_CszZ4eKtZmq"
      }
    },
    {
      "cell_type": "code",
      "source": [
        "import functools\n",
        "\n",
        "def repeat(times):\n",
        "    def decorator_repeat(func):\n",
        "        @functools.wraps(func)\n",
        "        def wrapper(*args, **kwargs):\n",
        "            for _ in range(times):\n",
        "                result = func(*args, **kwargs)\n",
        "            return result\n",
        "        return wrapper\n",
        "    return decorator_repeat\n",
        "\n",
        "@repeat(times=3)\n",
        "def greet(name):\n",
        "    print(f\"Hello, {name}!\")\n",
        "\n",
        "greet(\"Alice\")\n"
      ],
      "metadata": {
        "colab": {
          "base_uri": "https://localhost:8080/"
        },
        "id": "zFCidf7dtVa2",
        "outputId": "c1c0c5b3-1e67-4a17-eedf-10763401ee65"
      },
      "execution_count": null,
      "outputs": [
        {
          "output_type": "stream",
          "name": "stdout",
          "text": [
            "Hello, Alice!\n",
            "Hello, Alice!\n",
            "Hello, Alice!\n"
          ]
        }
      ]
    },
    {
      "cell_type": "markdown",
      "source": [
        "In the above example, repeat is a function that takes an argument times and returns a decorator decorator_repeat."
      ],
      "metadata": {
        "id": "314-8YRLti1i"
      }
    },
    {
      "cell_type": "markdown",
      "source": [
        "Thus, Decorators are a powerful tool in Python for extending and modifying the behavior of functions and methods. They can be simple or complex, and they can handle function arguments, return values, and even metadata. Using the @ syntax makes decorators easy to apply and read. Additionally, by using functools.wraps, you can preserve the original function’s metadata. Decorators with parameters allow for even more flexible and reusable code."
      ],
      "metadata": {
        "id": "z4CIw8ELtnuN"
      }
    }
  ]
}