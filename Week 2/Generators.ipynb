{
  "nbformat": 4,
  "nbformat_minor": 0,
  "metadata": {
    "colab": {
      "provenance": []
    },
    "kernelspec": {
      "name": "python3",
      "display_name": "Python 3"
    },
    "language_info": {
      "name": "python"
    }
  },
  "cells": [
    {
      "cell_type": "markdown",
      "source": [
        "# Generators\n"
      ],
      "metadata": {
        "id": "JznUrs6o6_9_"
      }
    },
    {
      "cell_type": "markdown",
      "source": [
        "Generator functions allow you to declare a function that behaves like an iterator, i.e. it can be used in a for loop."
      ],
      "metadata": {
        "id": "DxTwcMaz7DS0"
      }
    },
    {
      "cell_type": "markdown",
      "source": [
        "###The simplification of code is a result of generator function and generator expression support provided by Python.\n",
        "\n",
        "To illustrate this, we will compare different implementations that implement a function, \"firstn\", that represents the first n non-negative integers, where n is a really big number, and assume that each integer takes up a lot of space, say 10 megabytes each.\n",
        "\n",
        "First, let us consider the simple example of building a list and returning it."
      ],
      "metadata": {
        "id": "modi7Fbu7Mtb"
      }
    },
    {
      "cell_type": "code",
      "execution_count": null,
      "metadata": {
        "colab": {
          "base_uri": "https://localhost:8080/"
        },
        "id": "wjKGMnfr32Sv",
        "outputId": "8660f6dd-9895-47f3-a27f-9ddecfad3c71"
      },
      "outputs": [
        {
          "output_type": "stream",
          "name": "stdout",
          "text": [
            "499999500000\n"
          ]
        }
      ],
      "source": [
        "def first_n(n):\n",
        "    '''Generate numbers from 0 to n-1'''\n",
        "    num = 0\n",
        "    while num < n:\n",
        "        yield num\n",
        "        num += 1\n",
        "\n",
        "sum_of_first_n = sum(first_n(1000000))\n",
        "print(sum_of_first_n)\n"
      ]
    },
    {
      "cell_type": "markdown",
      "source": [
        "The code is quite simple and straightforward, but it builds the full list in memory. This is clearly not acceptable in our case, because we cannot afford to keep all n \"10 megabyte\" integers in memory."
      ],
      "metadata": {
        "id": "X5cE3OuE7uSa"
      }
    },
    {
      "cell_type": "markdown",
      "source": [
        "The following implements generator as an iterable object."
      ],
      "metadata": {
        "id": "llukQ4co7zEb"
      }
    },
    {
      "cell_type": "code",
      "source": [
        "class first_n(object):\n",
        "\n",
        "    def __init__(self, n):\n",
        "        self.n = n\n",
        "        self.num = 0\n",
        "\n",
        "    def __iter__(self):\n",
        "        return self\n",
        "\n",
        "    def __next__(self):\n",
        "        if self.num < self.n:\n",
        "            cur, self.num = self.num, self.num + 1\n",
        "            return cur\n",
        "        else:\n",
        "            raise StopIteration()\n",
        "\n",
        "    def next(self):\n",
        "        return self.__next__()\n",
        "\n",
        "# Calculate the sum of the first n numbers using the iterator\n",
        "sum_of_first_n = sum(first_n(1000000))\n",
        "print(sum_of_first_n)\n"
      ],
      "metadata": {
        "colab": {
          "base_uri": "https://localhost:8080/"
        },
        "id": "HzUf-2FR7bFU",
        "outputId": "9b9f1a3a-5ec2-49b6-e3cb-c1a9dc4ae6fe"
      },
      "execution_count": null,
      "outputs": [
        {
          "output_type": "stream",
          "name": "stdout",
          "text": [
            "499999500000\n"
          ]
        }
      ]
    },
    {
      "cell_type": "markdown",
      "source": [
        "This will perform as we expect, but we have the following issues:\n",
        "\n",
        "\n",
        "\n",
        "*   there is a lot of boilerplate\n",
        "*   the logic has to be expressed in a somewhat convoluted way\n",
        "\n",
        "Furthermore, this is a pattern that we will use over and over for many similar constructs. Imagine writing all that just to get an iterator.\n",
        "\n",
        "Python provides generator functions as a convenient shortcut to building iterators. Lets us rewrite the above iterator as a generator function:"
      ],
      "metadata": {
        "id": "uZuESx-W8ETJ"
      }
    },
    {
      "cell_type": "code",
      "source": [
        "def firstn(n):\n",
        "    \"\"\"Generate numbers from 0 to n-1.\"\"\"\n",
        "    num = 0\n",
        "    while num < n:\n",
        "        yield num\n",
        "        num += 1\n",
        "\n",
        "sum_of_first_n = sum(firstn(1000000))\n",
        "print(sum_of_first_n)\n"
      ],
      "metadata": {
        "colab": {
          "base_uri": "https://localhost:8080/"
        },
        "id": "goW-0QUH7619",
        "outputId": "d31e4f2c-ff14-4726-befe-89b66e35765a"
      },
      "execution_count": null,
      "outputs": [
        {
          "output_type": "stream",
          "name": "stdout",
          "text": [
            "499999500000\n"
          ]
        }
      ]
    },
    {
      "cell_type": "markdown",
      "source": [
        "## How Generators Work"
      ],
      "metadata": {
        "id": "SOWWrNCm8k88"
      }
    },
    {
      "cell_type": "markdown",
      "source": [
        "A generator in Python is created using a function with at least one yield statement. When the function is called, it returns an iterator object but does not start execution immediately. Each subsequent call to the iterator's __next__() method resumes the function execution from the point where it left off (just after the last yield statement). The function can run and yield multiple times, thus producing a sequence of results over time."
      ],
      "metadata": {
        "id": "2hY-i2up8p11"
      }
    },
    {
      "cell_type": "markdown",
      "source": [
        "## Key Points\n"
      ],
      "metadata": {
        "id": "Ixp5xHtS8t3a"
      }
    },
    {
      "cell_type": "markdown",
      "source": [
        "\n",
        "\n",
        "*  **Memory Efficiency:** Generators allow you to generate large sequences of values without using up memory for all of the values at once.\n",
        "\n",
        "*   **Lazy Evaluation:** Values are produced only as needed, rather than all at once.\n",
        "* **Maintain State:** Generators maintain their state between calls, which can be useful for complex iteration scenarios.\n",
        "\n"
      ],
      "metadata": {
        "id": "sc67FGYD8wq0"
      }
    },
    {
      "cell_type": "code",
      "source": [
        "def simple_generator(n):\n",
        "    \"\"\"A generator that yields numbers from 0 to n-1.\"\"\"\n",
        "    for i in range(n):\n",
        "        yield i\n",
        "\n",
        "# Using the generator\n",
        "gen = simple_generator(5)\n",
        "for value in gen:\n",
        "    print(value)\n"
      ],
      "metadata": {
        "colab": {
          "base_uri": "https://localhost:8080/"
        },
        "id": "S_KlkqwE8US1",
        "outputId": "0896e32a-a785-4189-d7b9-dc0997d12b88"
      },
      "execution_count": null,
      "outputs": [
        {
          "output_type": "stream",
          "name": "stdout",
          "text": [
            "0\n",
            "1\n",
            "2\n",
            "3\n",
            "4\n"
          ]
        }
      ]
    },
    {
      "cell_type": "markdown",
      "source": [
        "## Generator Expression"
      ],
      "metadata": {
        "id": "pPFdmwq99Gs-"
      }
    },
    {
      "cell_type": "markdown",
      "source": [
        "Python also provides a generator expression, which is similar to a list comprehension but with parentheses instead of square brackets. Here’s an example:"
      ],
      "metadata": {
        "id": "ECoZzzXS9Jr8"
      }
    },
    {
      "cell_type": "code",
      "source": [
        "gen_exp = (x * x for x in range(5))\n",
        "\n",
        "for value in gen_exp:\n",
        "    print(value)\n"
      ],
      "metadata": {
        "colab": {
          "base_uri": "https://localhost:8080/"
        },
        "id": "yBgUamUl9B2t",
        "outputId": "a19d28f3-c213-4f14-f706-f448ea095452"
      },
      "execution_count": null,
      "outputs": [
        {
          "output_type": "stream",
          "name": "stdout",
          "text": [
            "0\n",
            "1\n",
            "4\n",
            "9\n",
            "16\n"
          ]
        }
      ]
    },
    {
      "cell_type": "markdown",
      "source": [
        "## Another Example :"
      ],
      "metadata": {
        "id": "HF6FRY1a9Vl_"
      }
    },
    {
      "cell_type": "code",
      "source": [
        "def fibonacci():\n",
        "    \"\"\"An infinite generator for Fibonacci numbers.\"\"\"\n",
        "    a, b = 0, 1\n",
        "    while True:\n",
        "        yield a\n",
        "        a, b = b, a + b\n",
        "\n",
        "# Using the generator\n",
        "fib_gen = fibonacci()\n",
        "for _ in range(10):  # Print the first 10 Fibonacci numbers\n",
        "    print(next(fib_gen))\n"
      ],
      "metadata": {
        "colab": {
          "base_uri": "https://localhost:8080/"
        },
        "id": "rTJUFSuS9NSW",
        "outputId": "bbc4b4b6-5ef5-4a1e-df4a-c0042bef4650"
      },
      "execution_count": null,
      "outputs": [
        {
          "output_type": "stream",
          "name": "stdout",
          "text": [
            "0\n",
            "1\n",
            "1\n",
            "2\n",
            "3\n",
            "5\n",
            "8\n",
            "13\n",
            "21\n",
            "34\n"
          ]
        }
      ]
    },
    {
      "cell_type": "markdown",
      "source": [
        "## Explanation for the above code :\n",
        "\n",
        "*   **Function Definition:** def fibonacci() defines the generator function.\n",
        "*   **Initial State**: a, b = 0, 1 initializes the first two Fibonacci numbers.\n",
        "* **Infinite Loop:** while True: creates an infinite loop.\n",
        "* **Yielding Values**: yield a yields the current value of a.\n",
        "* **State Update**: a, b = b, a + b updates the values of a and b to the next two Fibonacci numbers.\n",
        "* **Using the Generator:** fib_gen = fibonacci() creates an instance of the generator, and next(fib_gen) is called to get the next Fibonacci number."
      ],
      "metadata": {
        "id": "Ir_MLRAP9als"
      }
    },
    {
      "cell_type": "markdown",
      "source": [
        "## Benefits of Generators"
      ],
      "metadata": {
        "id": "d4e52ElZ-CoL"
      }
    },
    {
      "cell_type": "markdown",
      "source": [
        "\n",
        "\n",
        "*   **Efficiency:** Generators are more memory-efficient than lists, especially for large datasets.\n",
        "*   **Lazy Evaluation:** Values are computed only when needed, avoiding unnecessary computations.\n",
        "* **Maintainability**: Generators can simplify code that deals with iterators and sequences.\n",
        "\n"
      ],
      "metadata": {
        "id": "1xAXUeug-F32"
      }
    }
  ]
}