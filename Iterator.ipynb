{
  "nbformat": 4,
  "nbformat_minor": 0,
  "metadata": {
    "colab": {
      "provenance": []
    },
    "kernelspec": {
      "name": "python3",
      "display_name": "Python 3"
    },
    "language_info": {
      "name": "python"
    }
  },
  "cells": [
    {
      "cell_type": "markdown",
      "source": [
        "# Iterators"
      ],
      "metadata": {
        "id": "QVAZoxuKzVWA"
      }
    },
    {
      "cell_type": "markdown",
      "source": [
        "An **iterator** in Python is an object that allows you to traverse through all the elements in a collection, such as lists, tuples, or dictionaries, without needing to use indexing or a loop counter. Iterators are implemented using two main methods:\n",
        "\n",
        "\n",
        "1.   __iter__(): Returns the iterator object itself.\n",
        "2.   \n",
        "__next__(): Returns the next element in the sequence. When there are no more elements, it raises a StopIteration exception to signal that the iteration is complete."
      ],
      "metadata": {
        "id": "VbLTof32zaut"
      }
    },
    {
      "cell_type": "markdown",
      "source": [
        "So let's first consider the basic python range function:"
      ],
      "metadata": {
        "id": "ZfT1Pevbz0Yc"
      }
    },
    {
      "cell_type": "code",
      "source": [
        "range(10)\n",
        "range(0, 10)"
      ],
      "metadata": {
        "colab": {
          "base_uri": "https://localhost:8080/"
        },
        "id": "bIje7rRSz4lY",
        "outputId": "b0c1faaf-933c-43c0-a719-f7103a95aa61"
      },
      "execution_count": 3,
      "outputs": [
        {
          "output_type": "execute_result",
          "data": {
            "text/plain": [
              "range(0, 10)"
            ]
          },
          "metadata": {},
          "execution_count": 3
        }
      ]
    },
    {
      "cell_type": "code",
      "source": [
        "total = 0\n",
        "for x in range(int(1e6)):\n",
        "    total += x"
      ],
      "metadata": {
        "id": "FYJmSkzGz7jb"
      },
      "execution_count": 4,
      "outputs": []
    },
    {
      "cell_type": "code",
      "source": [
        "total"
      ],
      "metadata": {
        "colab": {
          "base_uri": "https://localhost:8080/"
        },
        "id": "bl_lam3o0BNJ",
        "outputId": "7345e385-9528-402f-e2c8-f2dfd7a52b22"
      },
      "execution_count": 5,
      "outputs": [
        {
          "output_type": "execute_result",
          "data": {
            "text/plain": [
              "499999500000"
            ]
          },
          "metadata": {},
          "execution_count": 5
        }
      ]
    },
    {
      "cell_type": "markdown",
      "source": [
        "In order to avoid allocating a million integers, range actually uses an iterator.\n",
        "We don't actually need a million integers at once, just each integer in turn up to a million.\n",
        "\n",
        "Because we can get an iterator from it, we say that a range is an iterable.\n",
        "So we can for-loop over it:"
      ],
      "metadata": {
        "id": "Bc4ih00H0JBo"
      }
    },
    {
      "cell_type": "code",
      "source": [
        "for i in range(3):\n",
        "    print(i)"
      ],
      "metadata": {
        "colab": {
          "base_uri": "https://localhost:8080/"
        },
        "id": "yX-cG4t90Sgt",
        "outputId": "73e8232d-3d65-4107-e572-a3ec3730c49b"
      },
      "execution_count": 6,
      "outputs": [
        {
          "output_type": "stream",
          "name": "stdout",
          "text": [
            "0\n",
            "1\n",
            "2\n"
          ]
        }
      ]
    },
    {
      "cell_type": "markdown",
      "source": [
        "There are two important Python built-in functions for working with iterables. First is iter, which lets us create an iterator from any iterable object."
      ],
      "metadata": {
        "id": "v7gFNR3x0X00"
      }
    },
    {
      "cell_type": "code",
      "source": [
        "a = iter(range(3))"
      ],
      "metadata": {
        "id": "SGK_Vcdo0S_B"
      },
      "execution_count": 7,
      "outputs": []
    },
    {
      "cell_type": "markdown",
      "source": [
        "Once we have an iterator object, we can pass it to the next function. This moves the iterator forward, and gives us its next element:"
      ],
      "metadata": {
        "id": "Om8ziKmm0fw4"
      }
    },
    {
      "cell_type": "code",
      "source": [
        "next(a)"
      ],
      "metadata": {
        "colab": {
          "base_uri": "https://localhost:8080/"
        },
        "id": "hOm9GlmO0cVW",
        "outputId": "7db2325c-0a19-43ff-9751-f64380dad64b"
      },
      "execution_count": 8,
      "outputs": [
        {
          "output_type": "execute_result",
          "data": {
            "text/plain": [
              "0"
            ]
          },
          "metadata": {},
          "execution_count": 8
        }
      ]
    },
    {
      "cell_type": "code",
      "source": [
        "next(a)"
      ],
      "metadata": {
        "colab": {
          "base_uri": "https://localhost:8080/"
        },
        "id": "c8FLtuE-0kko",
        "outputId": "5ee00a4c-042c-4942-b567-9e469d84ce1e"
      },
      "execution_count": 9,
      "outputs": [
        {
          "output_type": "execute_result",
          "data": {
            "text/plain": [
              "1"
            ]
          },
          "metadata": {},
          "execution_count": 9
        }
      ]
    },
    {
      "cell_type": "code",
      "source": [
        "next(a)"
      ],
      "metadata": {
        "colab": {
          "base_uri": "https://localhost:8080/"
        },
        "id": "ZNTP71X90olf",
        "outputId": "f23a4e19-de65-4642-ccf0-a6105614e05c"
      },
      "execution_count": 10,
      "outputs": [
        {
          "output_type": "execute_result",
          "data": {
            "text/plain": [
              "2"
            ]
          },
          "metadata": {},
          "execution_count": 10
        }
      ]
    },
    {
      "cell_type": "code",
      "source": [
        "next(a)"
      ],
      "metadata": {
        "colab": {
          "base_uri": "https://localhost:8080/",
          "height": 148
        },
        "id": "7v0kReEt0qQq",
        "outputId": "b711e59b-a81f-4190-bd0b-30fcc22a44e0"
      },
      "execution_count": 11,
      "outputs": [
        {
          "output_type": "error",
          "ename": "StopIteration",
          "evalue": "",
          "traceback": [
            "\u001b[0;31m---------------------------------------------------------------------------\u001b[0m",
            "\u001b[0;31mStopIteration\u001b[0m                             Traceback (most recent call last)",
            "\u001b[0;32m<ipython-input-11-15841f3f11d4>\u001b[0m in \u001b[0;36m<cell line: 1>\u001b[0;34m()\u001b[0m\n\u001b[0;32m----> 1\u001b[0;31m \u001b[0mnext\u001b[0m\u001b[0;34m(\u001b[0m\u001b[0ma\u001b[0m\u001b[0;34m)\u001b[0m\u001b[0;34m\u001b[0m\u001b[0;34m\u001b[0m\u001b[0m\n\u001b[0m",
            "\u001b[0;31mStopIteration\u001b[0m: "
          ]
        }
      ]
    },
    {
      "cell_type": "markdown",
      "source": [
        "This tells Python that the iteration is over. For example, if we are in a for i in range(3) loop, this lets us know when we should exit the loop.\n",
        "\n",
        "We can turn an iterable or iterator into a list with the list constructor function:"
      ],
      "metadata": {
        "id": "1aN_Vb6d0xFu"
      }
    },
    {
      "cell_type": "code",
      "source": [
        "list(range(5))"
      ],
      "metadata": {
        "colab": {
          "base_uri": "https://localhost:8080/"
        },
        "id": "Vo5Vzot80rpO",
        "outputId": "6d50b2d7-0231-49e0-9fe9-7277783a69cd"
      },
      "execution_count": 12,
      "outputs": [
        {
          "output_type": "execute_result",
          "data": {
            "text/plain": [
              "[0, 1, 2, 3, 4]"
            ]
          },
          "metadata": {},
          "execution_count": 12
        }
      ]
    },
    {
      "cell_type": "markdown",
      "source": [
        "## Step-by-Step Implementation:"
      ],
      "metadata": {
        "id": "O9-DhCm502aJ"
      }
    },
    {
      "cell_type": "markdown",
      "source": [
        "\n",
        "\n",
        "1.  **Define the Iterator Class:** Implement the __iter__ and __next__ methods.\n",
        "         \n",
        "2. **Initialize the Iterator:**\n",
        "Set the starting point and any required variables.\n",
        "3. **Handle the Iteration Logic:**\n",
        "Define how to return the next element and when to raise StopIteration."
      ],
      "metadata": {
        "id": "txLXW2qH1BOf"
      }
    },
    {
      "cell_type": "code",
      "source": [
        "class EvenNumbers:\n",
        "    def __init__(self, max_numbers):\n",
        "        self.max_numbers = max_numbers\n",
        "        self.current = 0\n",
        "        self.count = 0\n",
        "\n",
        "    def __iter__(self):\n",
        "        return self\n",
        "\n",
        "    def __next__(self):\n",
        "        if self.count >= self.max_numbers:\n",
        "            raise StopIteration\n",
        "        else:\n",
        "            even_number = self.current\n",
        "            self.current += 2\n",
        "            self.count += 1\n",
        "            return even_number\n",
        "\n",
        "# Using the EvenNumbers iterator\n",
        "even_numbers_iterator = EvenNumbers(5)\n",
        "\n",
        "for num in even_numbers_iterator:\n",
        "    print(num)\n"
      ],
      "metadata": {
        "colab": {
          "base_uri": "https://localhost:8080/"
        },
        "id": "5tJ809X501j9",
        "outputId": "ba302528-3b11-46d9-f054-1571c664eac2"
      },
      "execution_count": 13,
      "outputs": [
        {
          "output_type": "stream",
          "name": "stdout",
          "text": [
            "0\n",
            "2\n",
            "4\n",
            "6\n",
            "8\n"
          ]
        }
      ]
    },
    {
      "cell_type": "markdown",
      "source": [
        "## Explanation of the above code -"
      ],
      "metadata": {
        "id": "wu0dm-o71n3w"
      }
    },
    {
      "cell_type": "markdown",
      "source": [
        "###**Initialization:**\n",
        "\n",
        "\n",
        "\n",
        "*   The __init__ method initializes the iterator.\n",
        "*   It takes max_numbers as an argument to define how many even numbers to generate.\n",
        "*  It also initializes self.current to 0 and self.count to 0.\n",
        "\n",
        "###**Iterator Protocol:**\n",
        "\n",
        "*   The __iter__ method returns self, indicating that the object itself is the iterator.\n",
        "*  The __next__ method contains the logic to return the next even number.\n",
        "*  If the count of generated numbers has reached max_numbers, it raises StopIteration. Otherwise, it calculates the next even number, updates the state, and returns the current even number.\n",
        "\n",
        "###**Using the Iterator:**\n",
        "\n",
        "*   An instance of EvenNumbers is created with max_numbers set to 5.\n",
        "*   A for loop is used to iterate through the even numbers.\n",
        "* The loop internally calls the __next__ method until StopIteration is raised.\n",
        "\n",
        "\n",
        "\n",
        "\n"
      ],
      "metadata": {
        "id": "J3L6SkeQ1sX3"
      }
    },
    {
      "cell_type": "markdown",
      "source": [
        "## Using Built-in Iterators"
      ],
      "metadata": {
        "id": "R7vGF_q12sFZ"
      }
    },
    {
      "cell_type": "markdown",
      "source": [
        "Python has several built-in objects that implement the iterator protocol, such as lists, tuples, and dictionaries. You can easily convert these objects into iterators using the iter() function and get the next item using the next() function.\n",
        "\n",
        "Example :"
      ],
      "metadata": {
        "id": "7KmUpb7l2t5P"
      }
    },
    {
      "cell_type": "code",
      "source": [
        "# Using a list as an iterator\n",
        "my_list = [1, 2, 3, 4]\n",
        "my_iterator = iter(my_list)\n",
        "\n",
        "print(next(my_iterator))  # Output: 1\n",
        "print(next(my_iterator))  # Output: 2\n",
        "print(next(my_iterator))  # Output: 3\n",
        "print(next(my_iterator))  # Output: 4\n",
        "\n",
        "# Raises StopIteration as there are no more items\n",
        "print(next(my_iterator))\n"
      ],
      "metadata": {
        "colab": {
          "base_uri": "https://localhost:8080/",
          "height": 258
        },
        "id": "ZWVDZmZW2reh",
        "outputId": "80045a16-bddc-4f88-f3cb-97c6e78ad0f1"
      },
      "execution_count": 14,
      "outputs": [
        {
          "output_type": "stream",
          "name": "stdout",
          "text": [
            "1\n",
            "2\n",
            "3\n",
            "4\n"
          ]
        },
        {
          "output_type": "error",
          "ename": "StopIteration",
          "evalue": "",
          "traceback": [
            "\u001b[0;31m---------------------------------------------------------------------------\u001b[0m",
            "\u001b[0;31mStopIteration\u001b[0m                             Traceback (most recent call last)",
            "\u001b[0;32m<ipython-input-14-ede86052819e>\u001b[0m in \u001b[0;36m<cell line: 11>\u001b[0;34m()\u001b[0m\n\u001b[1;32m      9\u001b[0m \u001b[0;34m\u001b[0m\u001b[0m\n\u001b[1;32m     10\u001b[0m \u001b[0;31m# Raises StopIteration as there are no more items\u001b[0m\u001b[0;34m\u001b[0m\u001b[0;34m\u001b[0m\u001b[0m\n\u001b[0;32m---> 11\u001b[0;31m \u001b[0mprint\u001b[0m\u001b[0;34m(\u001b[0m\u001b[0mnext\u001b[0m\u001b[0;34m(\u001b[0m\u001b[0mmy_iterator\u001b[0m\u001b[0;34m)\u001b[0m\u001b[0;34m)\u001b[0m\u001b[0;34m\u001b[0m\u001b[0;34m\u001b[0m\u001b[0m\n\u001b[0m",
            "\u001b[0;31mStopIteration\u001b[0m: "
          ]
        }
      ]
    },
    {
      "cell_type": "markdown",
      "source": [
        "##Explanation of Built-in Iterators:"
      ],
      "metadata": {
        "id": "dSnwu3ys28Zk"
      }
    },
    {
      "cell_type": "markdown",
      "source": [
        "\n",
        "*   **Conversion:** The iter() function is used to convert a list (my_list) into an iterator (my_iterator).\n",
        "\n",
        "*   **Iteration:** The next() function retrieves the next item from the iterator until the end of the list is reached. When there are no more items, it raises a StopIteration exception."
      ],
      "metadata": {
        "id": "dBPhZA8S2_53"
      }
    },
    {
      "cell_type": "markdown",
      "source": [
        "## Conclusion"
      ],
      "metadata": {
        "id": "3v2vSI2O3hxI"
      }
    },
    {
      "cell_type": "markdown",
      "source": [
        "Iterators provide a powerful and memory-efficient way to handle sequences of data in Python. By implementing the iterator protocol (__iter__ and __next__), custom objects can support iteration, allowing for more flexible and reusable code. Built-in collections like lists and dictionaries already support iteration, making it easy to traverse their elements without needing explicit counters or indexing."
      ],
      "metadata": {
        "id": "SzjIzGE73jXo"
      }
    }
  ]
}
